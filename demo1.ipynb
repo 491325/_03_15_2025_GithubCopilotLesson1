{
  "nbformat": 4,
  "nbformat_minor": 0,
  "metadata": {
    "colab": {
      "provenance": [],
      "authorship_tag": "ABX9TyMfPSO25O9tb9h1+38JC4ja",
      "include_colab_link": true
    },
    "kernelspec": {
      "name": "python3",
      "display_name": "Python 3"
    },
    "language_info": {
      "name": "python"
    }
  },
  "cells": [
    {
      "cell_type": "markdown",
      "metadata": {
        "id": "view-in-github",
        "colab_type": "text"
      },
      "source": [
        "<a href=\"https://colab.research.google.com/github/491325/_03_15_2025_GithubCopilotLesson1/blob/main/demo1.ipynb\" target=\"_parent\"><img src=\"https://colab.research.google.com/assets/colab-badge.svg\" alt=\"Open In Colab\"/></a>"
      ]
    },
    {
      "cell_type": "code",
      "execution_count": 5,
      "metadata": {
        "id": "wl6VWPEni1Yu"
      },
      "outputs": [],
      "source": [
        "# 這裡是建立`正弦波`圖表的範例"
      ]
    },
    {
      "cell_type": "markdown",
      "source": [
        "- 這裡是建立`正弦波`圖表的範例"
      ],
      "metadata": {
        "id": "ZyRomYkSktGL"
      }
    },
    {
      "cell_type": "code",
      "source": [],
      "metadata": {
        "id": "fm4VvVSnkyy3"
      },
      "execution_count": 5,
      "outputs": []
    },
    {
      "cell_type": "markdown",
      "source": [
        "import matplotlib.pyplot as plt\n",
        "import numpy as np\n",
        "\n",
        "# 建立 x 軸資料點，從 0 到 2π，共 100 個點\n",
        "x = np.linspace(0, 2 * np.pi, 100)\n",
        "\n",
        "# 計算 y 軸資料點，即 sin(x) 的值\n",
        "y = np.sin(x)\n",
        "\n",
        "# 使用 plot() 函式繪製圖表\n",
        "plt.plot(x, y)\n",
        "\n",
        "# 設定圖表標題和軸標籤\n",
        "plt.title('Sine Wave')\n",
        "plt.xlabel('x')\n",
        "plt.ylabel('sin(x)')\n",
        "\n",
        "# 顯示圖表\n",
        "plt.show()"
      ],
      "metadata": {
        "id": "hCgsHbd6krg8"
      }
    }
  ]
}